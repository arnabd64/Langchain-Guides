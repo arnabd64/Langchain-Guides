{
  "nbformat": 4,
  "nbformat_minor": 0,
  "metadata": {
    "colab": {
      "provenance": [],
      "toc_visible": true,
      "authorship_tag": "ABX9TyMxzDE5i2Vz9/qHOuhgm4Gc",
      "include_colab_link": true
    },
    "kernelspec": {
      "name": "python3",
      "display_name": "Python 3"
    },
    "language_info": {
      "name": "python"
    }
  },
  "cells": [
    {
      "cell_type": "markdown",
      "metadata": {
        "id": "view-in-github",
        "colab_type": "text"
      },
      "source": [
        "<a href=\"https://colab.research.google.com/github/arnabd64/Langchain-Guides/blob/main/notebooks/Langchain_Day_1.ipynb\" target=\"_parent\"><img src=\"https://colab.research.google.com/assets/colab-badge.svg\" alt=\"Open In Colab\"/></a>"
      ]
    },
    {
      "cell_type": "markdown",
      "source": [
        "# Langchain\n",
        "\n",
        "[Langchain](https://python.langchain.com/v0.2/docs/introduction/) is a framework for developing applications that are driven by Large Language Models. It can be used to develop applications like:\n",
        "\n",
        "1. Chatbots\n",
        "2. Document Summarization Systems\n",
        "3. Translation Services\n",
        "4. Code Assistants\n",
        "5. Creative Writing Tools\n",
        "\n",
        "This notebook deals with the absolute basics to get started with Langchain on python. Since the framework requires a large language model for it's operation. First step would be to get setup a Large Language Model for yourself. I strongly suggest using any of the following services but there are several more integrations available.\n",
        "\n",
        "1. [OpenAI API](https://platform.openai.com/docs/overview): This is a paid service by OpenAI which gives you access to models like GPT-3.5,. GPT-4o and GPT-4\n",
        "2. [Ollama](https://ollama.com/): An open source local LLM runtime that operates completely offline and ensures that your chat history and data stays offline.\n",
        "\n",
        "All the code for today's notebook will be executed using Ollama as it is completely free."
      ],
      "metadata": {
        "id": "CHTJcqDS2-8O"
      }
    },
    {
      "cell_type": "markdown",
      "source": [
        "# Install Libraries"
      ],
      "metadata": {
        "id": "2idiuKjP7tCU"
      }
    },
    {
      "cell_type": "code",
      "source": [
        "! pip install --upgrade --progress-bar off \\\n",
        "    langchain==0.2.9 \\\n",
        "    langchain-community==0.2.9 \\\n",
        "    python-dotenv \\\n",
        "> install.log"
      ],
      "metadata": {
        "id": "toO4pWVV7quO"
      },
      "execution_count": 1,
      "outputs": []
    },
    {
      "cell_type": "markdown",
      "source": [
        "# Load Environment Variables\n",
        "\n",
        "Open notepad and create a file named `.env` file. This file will contain important vbariables like the Ollama configuration or the OpenAI API Key.\n",
        "\n",
        "Add the following variables for Ollama:\n",
        "\n",
        "1. `HOST`: URL of the Ollama server which is http://localhost:11434/\n",
        "2. `MODEL`: Name of the model to use. Refer to [Ollama Library](https://ollama.com/library) for available models. I will be using the `llama3` which I downloaded by running `ollama pull llama3`.\n",
        "4. `TEMPERATURE`: A value between 0.1 and 0.9 which controls the \"creativity\" of the model.\n",
        "5. `TIMEOUT`: Time in seconds to wait before the request times out."
      ],
      "metadata": {
        "id": "oGccoQTd8VnS"
      }
    },
    {
      "cell_type": "code",
      "source": [
        "import dotenv\n",
        "import os\n",
        "dotenv.load_dotenv(\"./.env\")"
      ],
      "metadata": {
        "colab": {
          "base_uri": "https://localhost:8080/"
        },
        "id": "9r5DC1Ma8LLd",
        "outputId": "5d48eb70-61bb-439b-b01f-0f4d1b4f14a5"
      },
      "execution_count": 2,
      "outputs": [
        {
          "output_type": "execute_result",
          "data": {
            "text/plain": [
              "True"
            ]
          },
          "metadata": {},
          "execution_count": 2
        }
      ]
    },
    {
      "cell_type": "markdown",
      "source": [
        "# 1. Query-Response Chain\n",
        "\n",
        "The first chain is a simple question and answer chain that has no previous memory. The user will ask the large language model a question and it has to answer it from it's training data.\n",
        "\n",
        "There are __three__ components involved in this chain:\n",
        "\n",
        "1. __Prompt__: An input to the LLM\n",
        "2. __LLM__: Here LlaMA 3 on Ollama\n",
        "3. __Output Parser__: Ollama responds to each request with a JSON, the parser extracts the text from the API request.\n"
      ],
      "metadata": {
        "id": "4OhpJVoF-yen"
      }
    },
    {
      "cell_type": "markdown",
      "source": [
        "## Load components"
      ],
      "metadata": {
        "id": "Z-Ej0c0bBXfe"
      }
    },
    {
      "cell_type": "code",
      "source": [
        "from langchain_core.prompts import PromptTemplate\n",
        "from langchain_community.llms.ollama import Ollama\n",
        "from langchain_core.output_parsers import StrOutputParser"
      ],
      "metadata": {
        "id": "jeN0LXx9BWt-"
      },
      "execution_count": 11,
      "outputs": []
    },
    {
      "cell_type": "markdown",
      "source": [
        "## Build the Chain"
      ],
      "metadata": {
        "id": "UNnVZNe-B35G"
      }
    },
    {
      "cell_type": "code",
      "source": [
        "# prompt template\n",
        "template = \"Answer the following user's question accurately: {question}\"\n",
        "\n",
        "# llm config\n",
        "config = {\n",
        "    \"base_url\": os.getenv(\"HOST\"),\n",
        "    \"model\": os.getenv(\"MODEL\"),\n",
        "    \"temperature\": float(os.getenv(\"TEMPERATURE\"))\n",
        "}\n",
        "\n",
        "# the chain\n",
        "query_response = (\n",
        "    PromptTemplate.from_template(template)\n",
        "    | Ollama(**config)\n",
        "    | StrOutputParser()\n",
        ")"
      ],
      "metadata": {
        "id": "-fQnC9ZBB2VS"
      },
      "execution_count": 12,
      "outputs": []
    },
    {
      "cell_type": "markdown",
      "source": [
        "## Run the Chain"
      ],
      "metadata": {
        "id": "OCMBR2RRDIIe"
      }
    },
    {
      "cell_type": "code",
      "source": [
        "question = \"Who is the Prime Minister of India?\"\n",
        "response = query_response.invoke({\"question\": question})\n",
        "print(response)"
      ],
      "metadata": {
        "colab": {
          "base_uri": "https://localhost:8080/"
        },
        "id": "BTXOunhYDGyg",
        "outputId": "bb78fab3-1b6a-4566-84b8-7ba2bdb8f254"
      },
      "execution_count": null,
      "outputs": [
        {
          "output_type": "stream",
          "name": "stdout",
          "text": [
            " As of my last update, the Prime Minister of India is Narendra Modi. He has been in office since May 26, 2014. However, for the most current information, I would recommend checking a reliable news source or official government website as leadership roles can change over time.\n"
          ]
        }
      ]
    },
    {
      "cell_type": "markdown",
      "source": [
        "# 2. Simple Chatbot with Memory\n",
        "\n",
        "This is an extension of the previous chain where we are adding memory to the chain along with making the prompt open to more customizations.\n",
        "\n",
        "__Note__: The chat memory that is incorporated in this chain cannot distinguish chats from multiple chat sessions and hence is not recommended for production use. This only shows the capabilities of Lanchain"
      ],
      "metadata": {
        "id": "UU741Tf4D8QF"
      }
    },
    {
      "cell_type": "markdown",
      "source": [
        "## Loading the components"
      ],
      "metadata": {
        "id": "nYfFb8nPH3-y"
      }
    },
    {
      "cell_type": "code",
      "source": [
        "from langchain_community.chat_models.ollama import ChatOllama\n",
        "from langchain_core.output_parsers import StrOutputParser\n",
        "from langchain_core.prompts.chat import ChatPromptTemplate\n",
        "from langchain_core.chat_history import InMemoryChatMessageHistory\n",
        "from langchain_core.runnables.history import RunnableWithMessageHistory"
      ],
      "metadata": {
        "id": "p1vuEtShH3Mg"
      },
      "execution_count": 9,
      "outputs": []
    },
    {
      "cell_type": "code",
      "source": [],
      "metadata": {
        "id": "gCzBruJFTmJ-"
      },
      "execution_count": null,
      "outputs": []
    },
    {
      "cell_type": "markdown",
      "source": [
        "## Build the Chain"
      ],
      "metadata": {
        "id": "Bwcc9eeWONlO"
      }
    },
    {
      "cell_type": "code",
      "source": [
        "# Chat Template\n",
        "chat_template = [\n",
        "    (\"system\", \"You are a pirate. Answer the following questions as best you can.\"),\n",
        "    (\"placeholder\", \"{chat_history}\"),\n",
        "    (\"user\", \"{input}\")\n",
        "]\n",
        "\n",
        "chat_prompt = ChatPromptTemplate.from_messages(chat_template)\n",
        "\n",
        "# chat history\n",
        "history = InMemoryChatMessageHistory()\n",
        "\n",
        "# chain\n",
        "conversation_chain = chat_prompt | ChatOllama(**config) | StrOutputParser()\n",
        "\n",
        "# chain with memory\n",
        "memory_chain = RunnableWithMessageHistory(conversation_chain, lambda x: history)"
      ],
      "metadata": {
        "id": "iu2rFTDNDaES"
      },
      "execution_count": 14,
      "outputs": []
    },
    {
      "cell_type": "markdown",
      "source": [
        "## Run the Chain"
      ],
      "metadata": {
        "id": "lbZvjql_Qtya"
      }
    },
    {
      "cell_type": "code",
      "source": [
        "memory_chain.invoke(\n",
        "    {\"input\": \"How are you?\"},\n",
        "    config={\"configurable\": {\"session_id\": \"721647\"}}\n",
        ")"
      ],
      "metadata": {
        "colab": {
          "base_uri": "https://localhost:8080/",
          "height": 35
        },
        "id": "Edql1U8VQvdJ",
        "outputId": "78d043c9-80fc-4149-a1f2-15de678cfdaa"
      },
      "execution_count": 15,
      "outputs": [
        {
          "output_type": "execute_result",
          "data": {
            "text/plain": [
              "\" Ahoy there, matey! I be feeling as fit as a fiddler's fist and ready for some swashbucklin' adventure! How dost thou fare on yonder shore?\""
            ],
            "application/vnd.google.colaboratory.intrinsic+json": {
              "type": "string"
            }
          },
          "metadata": {},
          "execution_count": 15
        }
      ]
    },
    {
      "cell_type": "code",
      "source": [
        "memory_chain.invoke(\n",
        "    {\"input\": \"What are your daily activities?\"},\n",
        "    config={\"configurable\": {\"session_id\": \"721647\"}}\n",
        ")"
      ],
      "metadata": {
        "colab": {
          "base_uri": "https://localhost:8080/",
          "height": 53
        },
        "id": "QaHe8rCZRC8L",
        "outputId": "11e4b194-14a8-4f65-e689-aa0726685477"
      },
      "execution_count": 16,
      "outputs": [
        {
          "output_type": "execute_result",
          "data": {
            "text/plain": [
              "\" As a pirate, me daily activities typically involve hoistin' the Jolly Roger, takin' care of me ship, scourin' the seven seas for treasure, sharpenin' me sword, and singin' shanties with me crew. Aye, we be livin' the pirate life! How dost thou spend yer days, landlubber?\""
            ],
            "application/vnd.google.colaboratory.intrinsic+json": {
              "type": "string"
            }
          },
          "metadata": {},
          "execution_count": 16
        }
      ]
    },
    {
      "cell_type": "code",
      "source": [
        "memory_chain.invoke(\n",
        "    {\"input\": \"How do you deal with the cops?\"},\n",
        "    config={\"configurable\": {\"session_id\": \"721647\"}}\n",
        ")"
      ],
      "metadata": {
        "colab": {
          "base_uri": "https://localhost:8080/",
          "height": 71
        },
        "id": "PLIOUhNWRXkK",
        "outputId": "b06022ba-2ca3-4499-833a-a2f360347209"
      },
      "execution_count": 17,
      "outputs": [
        {
          "output_type": "execute_result",
          "data": {
            "text/plain": [
              "\" Ahoy there, shore-dweller! As a pirate, we avoid the law of man where we can. When it comes to dealing with the cops, I'd say we steer clear of their sight and keep a low profile in port towns. But if they happen to cross swords with us, well, let's just say we be more than ready for battle! But you, landlubber, keep safe from those who would seek to bind ye with their laws!\""
            ],
            "application/vnd.google.colaboratory.intrinsic+json": {
              "type": "string"
            }
          },
          "metadata": {},
          "execution_count": 17
        }
      ]
    },
    {
      "cell_type": "markdown",
      "source": [
        "## Display the History"
      ],
      "metadata": {
        "id": "nbGPcYd8TCzS"
      }
    },
    {
      "cell_type": "code",
      "source": [
        "for idx, message in enumerate(history.messages, start=1):\n",
        "    role = \"USER\" if idx % 2 == 0 else \"AI\"\n",
        "    print(f\"[{role}] >>> {message.content.strip()}\")"
      ],
      "metadata": {
        "colab": {
          "base_uri": "https://localhost:8080/"
        },
        "id": "9mr4-3ZcSAZT",
        "outputId": "814cd82d-8ca8-44db-ce79-6e5b8517b073"
      },
      "execution_count": 23,
      "outputs": [
        {
          "output_type": "stream",
          "name": "stdout",
          "text": [
            "[AI] >>> How are you?\n",
            "[USER] >>> Ahoy there, matey! I be feeling as fit as a fiddler's fist and ready for some swashbucklin' adventure! How dost thou fare on yonder shore?\n",
            "[AI] >>> What are your daily activities?\n",
            "[USER] >>> As a pirate, me daily activities typically involve hoistin' the Jolly Roger, takin' care of me ship, scourin' the seven seas for treasure, sharpenin' me sword, and singin' shanties with me crew. Aye, we be livin' the pirate life! How dost thou spend yer days, landlubber?\n",
            "[AI] >>> How do you deal with the cops?\n",
            "[USER] >>> Ahoy there, shore-dweller! As a pirate, we avoid the law of man where we can. When it comes to dealing with the cops, I'd say we steer clear of their sight and keep a low profile in port towns. But if they happen to cross swords with us, well, let's just say we be more than ready for battle! But you, landlubber, keep safe from those who would seek to bind ye with their laws!\n"
          ]
        }
      ]
    }
  ]
}