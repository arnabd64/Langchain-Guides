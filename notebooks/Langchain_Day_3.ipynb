{
  "nbformat": 4,
  "nbformat_minor": 0,
  "metadata": {
    "colab": {
      "provenance": [],
      "toc_visible": true,
      "authorship_tag": "ABX9TyNZHMqoTq2LKzZdVj/+8M0S",
      "include_colab_link": true
    },
    "kernelspec": {
      "name": "python3",
      "display_name": "Python 3"
    },
    "language_info": {
      "name": "python"
    }
  },
  "cells": [
    {
      "cell_type": "markdown",
      "metadata": {
        "id": "view-in-github",
        "colab_type": "text"
      },
      "source": [
        "<a href=\"https://colab.research.google.com/github/arnabd64/Langchain-Guides/blob/main/notebooks/Langchain_Day_3.ipynb\" target=\"_parent\"><img src=\"https://colab.research.google.com/assets/colab-badge.svg\" alt=\"Open In Colab\"/></a>"
      ]
    },
    {
      "cell_type": "markdown",
      "source": [
        "# Langchain\n",
        "\n",
        "In this notebook we will delve into the following components:\n",
        "\n",
        "1. RunnableLambda\n",
        "2. RunnableSequence\n",
        "3. RunnableParallel\n",
        "\n",
        "* __What is a Runnable?__:\n",
        "\n",
        "A [Runnable](https://python.langchain.com/v0.2/docs/concepts/#runnable-interface) is a specialized function built by langchain to ease the construction of complex chains. To execute a `Runnable`, there are 3 methods:\n",
        "\n",
        "1. `.invoke()`: Calls the `Runnable` on an input.\n",
        "2. `.stream()`: Streams the response of the `Runnable`.\n",
        "3. `.batch()`: Calls the `Runnable` on a list of inputs.\n",
        "\n",
        "__Note__: Mostly all the components in langchain are a `Runnable` which includes prompts, LLMs, chains, agents etc."
      ],
      "metadata": {
        "id": "ULjEjPdDG9c_"
      }
    },
    {
      "cell_type": "markdown",
      "source": [
        "# Install Libraries"
      ],
      "metadata": {
        "id": "amTMFkXRKKDa"
      }
    },
    {
      "cell_type": "code",
      "execution_count": 1,
      "metadata": {
        "id": "JREVueNEzyyA"
      },
      "outputs": [],
      "source": [
        "! pip install --no-cache-dir --progress-bar off \\\n",
        "    langchain==0.2.10 \\\n",
        "    langchain_community==0.2.10 \\\n",
        "    python-dotenv \\\n",
        "    > install.log"
      ]
    },
    {
      "cell_type": "code",
      "source": [
        "import os\n",
        "import dotenv\n",
        "\n",
        "if not dotenv.load_dotenv(\"./.env\"):\n",
        "    raise FileNotFoundError"
      ],
      "metadata": {
        "id": "7QUH7aBW0LUf"
      },
      "execution_count": 2,
      "outputs": []
    },
    {
      "cell_type": "markdown",
      "source": [
        "# Load the Components"
      ],
      "metadata": {
        "id": "AOnSZyBBKQ5q"
      }
    },
    {
      "cell_type": "code",
      "source": [
        "from langchain_core.runnables import RunnableLambda, RunnableSequence, RunnableBranch, RunnableParallel, RunnablePassthrough\n",
        "from langchain_core.prompts import PromptTemplate\n",
        "from langchain_community.llms.ollama import Ollama\n",
        "from langchain_community.embeddings.ollama import OllamaEmbeddings\n",
        "from langchain_core.output_parsers import StrOutputParser\n",
        "from langchain.globals import set_debug\n",
        "from langchain.utils.math import cosine_similarity\n",
        "import math"
      ],
      "metadata": {
        "id": "l-p9oafJ0cyp"
      },
      "execution_count": 5,
      "outputs": []
    },
    {
      "cell_type": "markdown",
      "source": [
        "# `RunnableLambda`\n",
        "\n",
        "A `RunnableLambda` is an interface between a regular method or `lambda` function and a `Runnable` or in simple words, `RunnableLambda` converts a python method into a `Runnable`. Please note that __a `RunnableLambda` method should only take a single input__."
      ],
      "metadata": {
        "id": "9Vsx9WYPKYBx"
      }
    },
    {
      "cell_type": "code",
      "source": [
        "addition = RunnableLambda(lambda x: x + 9)\n",
        "multiply = RunnableLambda(lambda y: y * 3)"
      ],
      "metadata": {
        "id": "KQAvp0GoLkuD"
      },
      "execution_count": 10,
      "outputs": []
    },
    {
      "cell_type": "code",
      "source": [
        "print(\"Result of Addition:\", addition.invoke(6))\n",
        "print(\"Result of Multiplication:\", multiply.invoke(4))"
      ],
      "metadata": {
        "colab": {
          "base_uri": "https://localhost:8080/"
        },
        "id": "V1BOgnczMYMc",
        "outputId": "7bf24191-438b-4e3b-ec28-d7f8bf98f410"
      },
      "execution_count": 13,
      "outputs": [
        {
          "output_type": "stream",
          "name": "stdout",
          "text": [
            "Result of Addition: 15\n",
            "Result of Multiplication: 12\n"
          ]
        }
      ]
    },
    {
      "cell_type": "markdown",
      "source": [
        "# `RunnableSequence`\n",
        "\n",
        "A `RunnableSequence` is a component that allows __chaining__ of multiple `Runnable` and even other `RunnableSequence`. This component can be considered as the chain in LangChain. You can create a `RunnableSequence` using the `pipe (|)` operator."
      ],
      "metadata": {
        "id": "cYTFhdp8Mp3h"
      }
    },
    {
      "cell_type": "markdown",
      "source": [
        "__Example__: Let's calculate the Area of a Circle given the radius. The mathematical formula is $A = \\pi r^2$. We can break this operation into 2 parts:\n",
        "\n",
        "1. Compute the square of `radius` ($r^2$)\n",
        "2. Multiply with `pi` ($\\pi$)\n",
        "\n",
        "We will be using both `RunnableSequence` as well as `pipe` operator."
      ],
      "metadata": {
        "id": "yxfk4wbwN1PU"
      }
    },
    {
      "cell_type": "code",
      "source": [
        "# RunnableSequence\n",
        "circle_area = RunnableSequence(\n",
        "    RunnableLambda(lambda r: r * r, name=\"Radius-Squared\"),\n",
        "    RunnableLambda(lambda y: y * math.pi, name=\"Multiply Pi\"),\n",
        "    name=\"Area of Circle\"\n",
        ")\n",
        "\n",
        "# pipe operator\n",
        "circle_area_pipe = (\n",
        "    RunnableLambda(lambda r: r * r, name=\"Radius-Squared\")\n",
        "    | RunnableLambda(lambda y: y * math.pi, name=\"Multiply Pi\")\n",
        ")\n",
        "\n",
        "set_debug(True)\n",
        "print(\"Area of the Circle =\", circle_area.invoke(6))"
      ],
      "metadata": {
        "colab": {
          "base_uri": "https://localhost:8080/"
        },
        "id": "5JHUMr-Y3AC-",
        "outputId": "713cc9ee-9adc-481a-c627-995134bc541c"
      },
      "execution_count": 14,
      "outputs": [
        {
          "output_type": "stream",
          "name": "stdout",
          "text": [
            "\u001b[32;1m\u001b[1;3m[chain/start]\u001b[0m \u001b[1m[chain:Area of Circle] Entering Chain run with input:\n",
            "\u001b[0m{\n",
            "  \"input\": 6\n",
            "}\n",
            "\u001b[32;1m\u001b[1;3m[chain/start]\u001b[0m \u001b[1m[chain:Area of Circle > chain:Radius-Squared] Entering Chain run with input:\n",
            "\u001b[0m{\n",
            "  \"input\": 6\n",
            "}\n",
            "\u001b[36;1m\u001b[1;3m[chain/end]\u001b[0m \u001b[1m[chain:Area of Circle > chain:Radius-Squared] [1ms] Exiting Chain run with output:\n",
            "\u001b[0m{\n",
            "  \"output\": 36\n",
            "}\n",
            "\u001b[32;1m\u001b[1;3m[chain/start]\u001b[0m \u001b[1m[chain:Area of Circle > chain:Multiply Pi] Entering Chain run with input:\n",
            "\u001b[0m{\n",
            "  \"input\": 36\n",
            "}\n",
            "\u001b[36;1m\u001b[1;3m[chain/end]\u001b[0m \u001b[1m[chain:Area of Circle > chain:Multiply Pi] [1ms] Exiting Chain run with output:\n",
            "\u001b[0m{\n",
            "  \"output\": 113.09733552923255\n",
            "}\n",
            "\u001b[36;1m\u001b[1;3m[chain/end]\u001b[0m \u001b[1m[chain:Area of Circle] [3ms] Exiting Chain run with output:\n",
            "\u001b[0m{\n",
            "  \"output\": 113.09733552923255\n",
            "}\n",
            "Area of the Circle = 113.09733552923255\n"
          ]
        }
      ]
    },
    {
      "cell_type": "code",
      "source": [
        "print(\"Area of the Circle =\", circle_area_pipe.invoke(2))"
      ],
      "metadata": {
        "colab": {
          "base_uri": "https://localhost:8080/"
        },
        "id": "eZDJQdZyPiyV",
        "outputId": "6641c8db-28ae-40ac-acd8-73d66dc666ee"
      },
      "execution_count": 15,
      "outputs": [
        {
          "output_type": "stream",
          "name": "stdout",
          "text": [
            "\u001b[32;1m\u001b[1;3m[chain/start]\u001b[0m \u001b[1m[chain:RunnableSequence] Entering Chain run with input:\n",
            "\u001b[0m{\n",
            "  \"input\": 2\n",
            "}\n",
            "\u001b[32;1m\u001b[1;3m[chain/start]\u001b[0m \u001b[1m[chain:RunnableSequence > chain:Radius-Squared] Entering Chain run with input:\n",
            "\u001b[0m{\n",
            "  \"input\": 2\n",
            "}\n",
            "\u001b[36;1m\u001b[1;3m[chain/end]\u001b[0m \u001b[1m[chain:RunnableSequence > chain:Radius-Squared] [1ms] Exiting Chain run with output:\n",
            "\u001b[0m{\n",
            "  \"output\": 4\n",
            "}\n",
            "\u001b[32;1m\u001b[1;3m[chain/start]\u001b[0m \u001b[1m[chain:RunnableSequence > chain:Multiply Pi] Entering Chain run with input:\n",
            "\u001b[0m{\n",
            "  \"input\": 4\n",
            "}\n",
            "\u001b[36;1m\u001b[1;3m[chain/end]\u001b[0m \u001b[1m[chain:RunnableSequence > chain:Multiply Pi] [1ms] Exiting Chain run with output:\n",
            "\u001b[0m{\n",
            "  \"output\": 12.566370614359172\n",
            "}\n",
            "\u001b[36;1m\u001b[1;3m[chain/end]\u001b[0m \u001b[1m[chain:RunnableSequence] [4ms] Exiting Chain run with output:\n",
            "\u001b[0m{\n",
            "  \"output\": 12.566370614359172\n",
            "}\n",
            "Area of the Circle = 12.566370614359172\n"
          ]
        }
      ]
    },
    {
      "cell_type": "markdown",
      "source": [
        "# `RunnableParallel`\n",
        "\n"
      ],
      "metadata": {
        "id": "QEA28hohPr3j"
      }
    },
    {
      "cell_type": "code",
      "source": [
        "# description prompt\n",
        "description_prompt = {\n",
        "    \"template\": \"You are an assistant tasked with gathering information about a product that an user wants to know about. Get the information for: {product}\",\n",
        "    \"input_variables\": [\"product\"]\n",
        "}\n",
        "\n",
        "# LLM config\n",
        "config = {\n",
        "    \"name\": \"Ollama-Local\",\n",
        "    \"base_url\": os.getenv(\"HOST\"),\n",
        "    \"model\": os.getenv(\"MODEL\"),\n",
        "    \"temperature\": float(os.getenv(\"TEMPERATURE\")),\n",
        "    \"timeout\": int(os.getenv(\"TIMEOUT\")),\n",
        "    \"keep_alive\": 3600\n",
        "}\n",
        "\n",
        "# build a chain to gather information\n",
        "query_chain = (\n",
        "    PromptTemplate(**description_prompt)\n",
        "    | Ollama(**config)\n",
        "    | StrOutputParser()\n",
        ")"
      ],
      "metadata": {
        "id": "2x29zspdCpJy"
      },
      "execution_count": 26,
      "outputs": []
    },
    {
      "cell_type": "code",
      "source": [
        "# Pros Chain\n",
        "#Prompt template\n",
        "pros_prompt = {\n",
        "    \"input_variables\": [\"description\"],\n",
        "    \"template\": \"Write down exactly 5 points on why should the user purchase a product according to the following product description:\\n{description}\"\n",
        "}\n",
        "\n",
        "# build the chain\n",
        "pros_chain = (\n",
        "    PromptTemplate(**pros_prompt)\n",
        "    | Ollama(**config)\n",
        "    | StrOutputParser()\n",
        ")"
      ],
      "metadata": {
        "id": "7ODh1Zq0IBsP"
      },
      "execution_count": 27,
      "outputs": []
    },
    {
      "cell_type": "code",
      "source": [
        "# Cons Chain\n",
        "# Prompt\n",
        "cons_prompt = {\n",
        "    \"input_variables\": [\"description\"],\n",
        "    \"template\": \"Write down exactly 5 points on why the user should not purchase a product according to the following product description:\\n{description}\"\n",
        "}\n",
        "\n",
        "# cons chain\n",
        "cons_chain = (\n",
        "    PromptTemplate(**cons_prompt)\n",
        "    | Ollama(**config)\n",
        "    | StrOutputParser()\n",
        ")"
      ],
      "metadata": {
        "id": "3W2Y4egGLNem"
      },
      "execution_count": 28,
      "outputs": []
    },
    {
      "cell_type": "code",
      "source": [
        "# Combine the Chains\n",
        "combine_prompt = {\n",
        "    \"input_variables\": [\"pros\", \"cons\"],\n",
        "    \"template\": \"You are tasked with summarizing the advantages and disadvantages of purchasing a product from the given list: Firstly, the advatages:\\n{pros} and finally the disadvantages:\\n{cons}\"\n",
        "}\n",
        "\n",
        "# combine chain\n",
        "combine_chain = (\n",
        "    PromptTemplate(**combine_prompt)\n",
        "    | Ollama(**config)\n",
        "    | StrOutputParser()\n",
        ")"
      ],
      "metadata": {
        "id": "_nREjGhrV0gW"
      },
      "execution_count": 29,
      "outputs": []
    },
    {
      "cell_type": "code",
      "source": [
        "final_chain = (\n",
        "    query_chain\n",
        "    | RunnableParallel(pros=pros_chain, cons=cons_chain)\n",
        "    | combine_chain\n",
        ")"
      ],
      "metadata": {
        "id": "tnrzsd91PWsv"
      },
      "execution_count": 30,
      "outputs": []
    },
    {
      "cell_type": "code",
      "source": [
        "set_debug(False)\n",
        "response = final_chain.invoke({\"product\": \"Porsche 911 Turbo GT\"})"
      ],
      "metadata": {
        "id": "UdoBdo6Fqkw9"
      },
      "execution_count": 31,
      "outputs": []
    },
    {
      "cell_type": "code",
      "source": [
        "print(response)"
      ],
      "metadata": {
        "colab": {
          "base_uri": "https://localhost:8080/"
        },
        "id": "HWsBpBeLstx2",
        "outputId": "8b0fbd99-aac4-4b77-dcd4-5c8fdf8b6fd1"
      },
      "execution_count": 32,
      "outputs": [
        {
          "output_type": "stream",
          "name": "stdout",
          "text": [
            " Advantages of buying the Porsche 911 Turbo GT include:\n",
            "\n",
            "1. Brand Reputation: Owning a Porsche 911 Turbo GT associates you with a prestigious luxury sports car brand known for high-performance vehicles, superior engineering, and iconic design.\n",
            "2. High-Performance Specifications: The estimated 640 horsepower engine provides rapid acceleration (0-60 mph in approximately 2.8 seconds) and an over 205 mph top speed, delivering a thrilling driving experience.\n",
            "3. Aerodynamic Design: The sleek and aerodynamic body ensures stability at high speeds while maintaining an appealing aesthetic appeal, with improved handling and cornering abilities.\n",
            "4. Luxurious Interior: The Porsche 911 Turbo GT features a comfortable, ergonomic cabin with sport seats, advanced infotainment systems, and numerous customization options to suit personal preferences.\n",
            "5. Potential for Exclusivity: Given the non-production status of the car, purchasing one grants access to an exclusive club of early adopters who appreciate cutting-edge automotive technology and design.\n",
            "\n",
            "Disadvantages include:\n",
            "\n",
            "1. Uncertainty about Availability: The car is not yet officially announced or in production, which could result in an unknown wait period before purchase.\n",
            "2. Price: Expected to be quite expensive due to its high-performance specifications and luxury features, potentially making it less affordable for some buyers.\n",
            "3. Performance Estimates: The given performance figures are based on speculations and may differ significantly once the car is officially released and tested.\n",
            "4. Risk of Overestimation: Exciting features could lead to unrealistic expectations about the car's capabilities in real-world driving conditions.\n",
            "5. Limited Information: Lack of official information means crucial details like fuel efficiency, maintenance costs, safety features, etc., are missing, making it difficult for potential buyers to make informed decisions. It is recommended to wait for more detailed information from Porsche's official website before purchasing.\n"
          ]
        }
      ]
    },
    {
      "cell_type": "code",
      "source": [
        "chain_config = {\n",
        "    # Set the prompts\n",
        "    \"prompts\": {\n",
        "        # prompt to get a description of the product\n",
        "        \"description\": {\n",
        "            \"name\": \"Prompt-Generate-Product_Description\",\n",
        "            \"input_variables\": [\"product\"],\n",
        "            \"template\": \"You are an assistant tasked with gathering information about a product that an user wants to know about. Get the information for: {product}\"\n",
        "        },\n",
        "\n",
        "        # prompt to get the advantages of a purchase\n",
        "        \"pros\": {\n",
        "            \"name\": \"Prompt-Generate-Advantages\",\n",
        "            \"input_variables\": [\"description\"],\n",
        "            \"template\": \"List exactly 5 reasons why the user should purchase the product described as:\\n{description}\"\n",
        "        },\n",
        "\n",
        "        # prompt to get the disadvantages of a purchse\n",
        "        \"cons\": {\n",
        "            \"name\": \"Prompt-Generate-Disadvantages\",\n",
        "            \"input_variables\": [\"description\"],\n",
        "            \"template\": \"List exactly 5 reasons why the user should not purchase the product described as:\\n{description}\"\n",
        "        },\n",
        "\n",
        "        # prompt to combine both the pros and cons into a single summary\n",
        "        \"combine\": {\n",
        "            \"name\": \"Prompt-Summarize-Outputs\",\n",
        "            \"input_variables\": [\"pros\", \"cons\"],\n",
        "            \"template\": \"Write down 3 points each on the Advantages and Disadvantages of making a purchase for a product. The advantages of a purcahse are:\\n{pros} and the disadvantages of a purcashe are:\\n{cons}\"\n",
        "        }\n",
        "    },\n",
        "\n",
        "    \"llm-config\": {\n",
        "        \"name\": \"Ollama-Local\",\n",
        "        \"base_url\": os.getenv(\"HOST\"),\n",
        "        \"model\": os.getenv(\"MODEL\"),\n",
        "        \"temperature\": float(os.getenv(\"TEMPERATURE\")),\n",
        "        \"timeout\": int(os.getenv(\"TIMEOUT\")),\n",
        "        \"keep_alive\": 3600\n",
        "    }\n",
        "}"
      ],
      "metadata": {
        "id": "cNLg5RlsuOv7"
      },
      "execution_count": 33,
      "outputs": []
    },
    {
      "cell_type": "code",
      "source": [
        "chain_pipe = (\n",
        "    # 1. Description Generator Chain\n",
        "    PromptTemplate(**chain_config[\"prompts\"][\"description\"])\n",
        "    | Ollama(**chain_config[\"llm-config\"])\n",
        "    | StrOutputParser()\n",
        "\n",
        "    # 2. Parallel chains\n",
        "    | RunnableParallel(\n",
        "        # 2A. Generate Advantages\n",
        "        pros = (\n",
        "            PromptTemplate(**chain_config[\"prompts\"][\"pros\"])\n",
        "            | Ollama(**chain_config[\"llm-config\"])\n",
        "            | StrOutputParser()\n",
        "        ),\n",
        "        # 2B. Generate Disadvantages\n",
        "        cons = (\n",
        "            PromptTemplate(**chain_config[\"prompts\"][\"cons\"])\n",
        "            | Ollama(**chain_config[\"llm-config\"])\n",
        "            | StrOutputParser()\n",
        "        )\n",
        "    )\n",
        "\n",
        "    # 3. Combine the Advantages & Disadvantages\n",
        "    | PromptTemplate(**chain_config[\"prompts\"][\"combine\"])\n",
        "    | Ollama(**chain_config[\"llm-config\"])\n",
        "    | StrOutputParser()\n",
        ")"
      ],
      "metadata": {
        "id": "cvlp3ZsLEC9x"
      },
      "execution_count": 34,
      "outputs": []
    },
    {
      "cell_type": "code",
      "source": [
        "set_debug(False)\n",
        "response = chain_pipe.invoke({\"product\": \"Porsche 911 Carrera RS\"})"
      ],
      "metadata": {
        "id": "UTJ6gxnsxW0O"
      },
      "execution_count": null,
      "outputs": []
    },
    {
      "cell_type": "code",
      "source": [
        "print(response)"
      ],
      "metadata": {
        "id": "ANi-V6RQzZC4"
      },
      "execution_count": null,
      "outputs": []
    },
    {
      "cell_type": "code",
      "source": [
        "chain_subchain = RunnableSequence(\n",
        "    # 1. Product Description Generator Sub-Chain\n",
        "    RunnableSequence(\n",
        "        PromptTemplate(**chain_config[\"prompts\"][\"description\"]),\n",
        "        Ollama(**chain_config[\"llm-config\"]),\n",
        "        StrOutputParser(),\n",
        "        name=\"Chain-Generate-Product_Description\"\n",
        "    ),\n",
        "\n",
        "    # 2. Generate Advantages & Disadvantages\n",
        "    RunnableParallel(\n",
        "        pros = RunnableSequence(\n",
        "            # 2A. Generate the Advantages\n",
        "            PromptTemplate(**chain_config[\"prompts\"][\"pros\"]),\n",
        "            Ollama(**chain_config[\"llm-config\"]),\n",
        "            StrOutputParser(),\n",
        "            name=\"Chain-Generate-Advantages\"\n",
        "        ),\n",
        "        cons = RunnableSequence(\n",
        "            # 2B. Generate the Disadvantages\n",
        "            PromptTemplate(**chain_config[\"prompts\"][\"cons\"]),\n",
        "            Ollama(**chain_config[\"llm-config\"]),\n",
        "            StrOutputParser(),\n",
        "            name=\"Chain-Generate-Disadvantages\"\n",
        "        )\n",
        "    ),\n",
        "\n",
        "    # 3. Combine the Results\n",
        "    RunnableSequence(\n",
        "        PromptTemplate(**chain_config[\"prompts\"][\"combine\"]),\n",
        "        Ollama(**chain_config[\"llm-config\"]),\n",
        "        StrOutputParser(),\n",
        "        name=\"Chain-Summarize-Output\"\n",
        "    ),\n",
        "    name=\"Parent-Chain\"\n",
        ")"
      ],
      "metadata": {
        "id": "pYXdEYTxEBPk"
      },
      "execution_count": null,
      "outputs": []
    },
    {
      "cell_type": "code",
      "source": [
        "set_debug(False)\n",
        "chain_subchain.invoke({\"product\": \"Porsche Carrera RS\"})"
      ],
      "metadata": {
        "id": "3Rvpmur0FnxP"
      },
      "execution_count": null,
      "outputs": []
    },
    {
      "cell_type": "code",
      "source": [],
      "metadata": {
        "id": "LdcLitg_BIj8"
      },
      "execution_count": null,
      "outputs": []
    }
  ]
}