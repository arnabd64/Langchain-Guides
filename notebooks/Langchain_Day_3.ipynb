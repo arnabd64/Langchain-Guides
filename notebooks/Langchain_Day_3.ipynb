{
  "nbformat": 4,
  "nbformat_minor": 0,
  "metadata": {
    "colab": {
      "provenance": [],
      "include_colab_link": true
    },
    "kernelspec": {
      "name": "python3",
      "display_name": "Python 3"
    },
    "language_info": {
      "name": "python"
    }
  },
  "cells": [
    {
      "cell_type": "markdown",
      "metadata": {
        "id": "view-in-github",
        "colab_type": "text"
      },
      "source": [
        "<a href=\"https://colab.research.google.com/github/arnabd64/Langchain-Guides/blob/main/notebooks/Langchain_Day_3.ipynb\" target=\"_parent\"><img src=\"https://colab.research.google.com/assets/colab-badge.svg\" alt=\"Open In Colab\"/></a>"
      ]
    },
    {
      "cell_type": "markdown",
      "source": [
        "# Langchain\n",
        "\n",
        "In this notebook we will delve into the following components:\n",
        "\n",
        "1. RunnableLambda\n",
        "2. RunnableSequence\n",
        "3. RunnableParallel\n",
        "\n",
        "* __What is a Runnable?__:\n",
        "\n",
        "A [Runnable](https://python.langchain.com/v0.2/docs/concepts/#runnable-interface) is a specialized function built by langchain to ease the construction of complex chains. To execute a `Runnable`, there are 3 methods:\n",
        "\n",
        "1. `.invoke()`: Calls the `Runnable` on an input.\n",
        "2. `.stream()`: Streams the response of the `Runnable`.\n",
        "3. `.batch()`: Calls the `Runnable` on a list of inputs.\n",
        "\n",
        "__Note__: Mostly all the components in langchain are a `Runnable` which includes prompts, LLMs, chains, agents etc."
      ],
      "metadata": {
        "id": "ULjEjPdDG9c_"
      }
    },
    {
      "cell_type": "markdown",
      "source": [
        "# Install Libraries"
      ],
      "metadata": {
        "id": "amTMFkXRKKDa"
      }
    },
    {
      "cell_type": "code",
      "execution_count": 1,
      "metadata": {
        "id": "JREVueNEzyyA"
      },
      "outputs": [],
      "source": [
        "! pip install --no-cache-dir --progress-bar off \\\n",
        "    langchain==0.2.10 \\\n",
        "    langchain_community==0.2.10 \\\n",
        "    python-dotenv \\\n",
        "    > install.log"
      ]
    },
    {
      "cell_type": "code",
      "source": [
        "import os\n",
        "import dotenv\n",
        "\n",
        "if not dotenv.load_dotenv(\"./.env\"):\n",
        "    raise FileNotFoundError"
      ],
      "metadata": {
        "id": "7QUH7aBW0LUf"
      },
      "execution_count": 2,
      "outputs": []
    },
    {
      "cell_type": "markdown",
      "source": [
        "# Load the Components"
      ],
      "metadata": {
        "id": "AOnSZyBBKQ5q"
      }
    },
    {
      "cell_type": "code",
      "source": [
        "from langchain_core.runnables import RunnableLambda, RunnableSequence, RunnableBranch, RunnableParallel, RunnablePassthrough\n",
        "from langchain_core.prompts import PromptTemplate\n",
        "from langchain_community.llms.ollama import Ollama\n",
        "from langchain_community.embeddings.ollama import OllamaEmbeddings\n",
        "from langchain_core.output_parsers import StrOutputParser\n",
        "from langchain.globals import set_debug\n",
        "from langchain.utils.math import cosine_similarity\n",
        "import math"
      ],
      "metadata": {
        "id": "l-p9oafJ0cyp"
      },
      "execution_count": 3,
      "outputs": []
    },
    {
      "cell_type": "markdown",
      "source": [
        "# `RunnableLambda`\n",
        "\n",
        "A [`RunnableLambda`](https://api.python.langchain.com/en/latest/runnables/langchain_core.runnables.base.RunnableLambda.html) is an interface between a regular method or `lambda` function and a `Runnable` or in simple words, `RunnableLambda` converts a python method into a `Runnable`. Please note that __a `RunnableLambda` method should only take a single input__."
      ],
      "metadata": {
        "id": "9Vsx9WYPKYBx"
      }
    },
    {
      "cell_type": "code",
      "source": [
        "addition = RunnableLambda(lambda x: x + 9)\n",
        "multiply = RunnableLambda(lambda y: y * 3)"
      ],
      "metadata": {
        "id": "KQAvp0GoLkuD"
      },
      "execution_count": 4,
      "outputs": []
    },
    {
      "cell_type": "code",
      "source": [
        "print(\"Result of Addition:\", addition.invoke(6))\n",
        "print(\"Result of Multiplication:\", multiply.invoke(4))"
      ],
      "metadata": {
        "colab": {
          "base_uri": "https://localhost:8080/"
        },
        "id": "V1BOgnczMYMc",
        "outputId": "b427436e-95c9-490d-dc07-438193dda12a"
      },
      "execution_count": 5,
      "outputs": [
        {
          "output_type": "stream",
          "name": "stdout",
          "text": [
            "Result of Addition: 15\n",
            "Result of Multiplication: 12\n"
          ]
        }
      ]
    },
    {
      "cell_type": "markdown",
      "source": [
        "# `RunnableSequence`\n",
        "\n",
        "A [`RunnableSequence`](https://api.python.langchain.com/en/latest/runnables/langchain_core.runnables.base.RunnableSequence.html) is a component that allows __chaining__ of multiple `Runnable` and even other `RunnableSequence` instances. This component can be considered as the _chain_ in LangChain. You can create a `RunnableSequence` using the `pipe (|)` operator."
      ],
      "metadata": {
        "id": "cYTFhdp8Mp3h"
      }
    },
    {
      "cell_type": "markdown",
      "source": [
        "__Example__: Let's calculate the Area of a Circle given the radius. The mathematical formula is $A = \\pi r^2$. We can break this operation into 2 parts:\n",
        "\n",
        "1. Compute the square of `radius` ($r^2$)\n",
        "2. Multiply with `pi` ($\\pi$)\n",
        "\n",
        "We will be using both `RunnableSequence` as well as `pipe` operator."
      ],
      "metadata": {
        "id": "yxfk4wbwN1PU"
      }
    },
    {
      "cell_type": "code",
      "source": [
        "# RunnableSequence\n",
        "circle_area = RunnableSequence(\n",
        "    RunnableLambda(lambda r: r * r, name=\"Radius-Squared\"),\n",
        "    RunnableLambda(lambda y: y * math.pi, name=\"Multiply Pi\"),\n",
        "    name=\"Area of Circle\"\n",
        ")\n",
        "\n",
        "# pipe operator\n",
        "circle_area_pipe = (\n",
        "    RunnableLambda(lambda r: r * r, name=\"Radius-Squared\")\n",
        "    | RunnableLambda(lambda y: y * math.pi, name=\"Multiply Pi\")\n",
        ")\n",
        "\n",
        "set_debug(True)\n",
        "print(\"Area of the Circle =\", circle_area.invoke(6))"
      ],
      "metadata": {
        "colab": {
          "base_uri": "https://localhost:8080/"
        },
        "id": "5JHUMr-Y3AC-",
        "outputId": "446c14ef-6387-433b-cec0-40083419ad2d"
      },
      "execution_count": 6,
      "outputs": [
        {
          "output_type": "stream",
          "name": "stdout",
          "text": [
            "\u001b[32;1m\u001b[1;3m[chain/start]\u001b[0m \u001b[1m[chain:Area of Circle] Entering Chain run with input:\n",
            "\u001b[0m{\n",
            "  \"input\": 6\n",
            "}\n",
            "\u001b[32;1m\u001b[1;3m[chain/start]\u001b[0m \u001b[1m[chain:Area of Circle > chain:Radius-Squared] Entering Chain run with input:\n",
            "\u001b[0m{\n",
            "  \"input\": 6\n",
            "}\n",
            "\u001b[36;1m\u001b[1;3m[chain/end]\u001b[0m \u001b[1m[chain:Area of Circle > chain:Radius-Squared] [1ms] Exiting Chain run with output:\n",
            "\u001b[0m{\n",
            "  \"output\": 36\n",
            "}\n",
            "\u001b[32;1m\u001b[1;3m[chain/start]\u001b[0m \u001b[1m[chain:Area of Circle > chain:Multiply Pi] Entering Chain run with input:\n",
            "\u001b[0m{\n",
            "  \"input\": 36\n",
            "}\n",
            "\u001b[36;1m\u001b[1;3m[chain/end]\u001b[0m \u001b[1m[chain:Area of Circle > chain:Multiply Pi] [2ms] Exiting Chain run with output:\n",
            "\u001b[0m{\n",
            "  \"output\": 113.09733552923255\n",
            "}\n",
            "\u001b[36;1m\u001b[1;3m[chain/end]\u001b[0m \u001b[1m[chain:Area of Circle] [17ms] Exiting Chain run with output:\n",
            "\u001b[0m{\n",
            "  \"output\": 113.09733552923255\n",
            "}\n",
            "Area of the Circle = 113.09733552923255\n"
          ]
        }
      ]
    },
    {
      "cell_type": "code",
      "source": [
        "print(\"Area of the Circle =\", circle_area_pipe.invoke(2))"
      ],
      "metadata": {
        "colab": {
          "base_uri": "https://localhost:8080/"
        },
        "id": "eZDJQdZyPiyV",
        "outputId": "74182f81-35ed-4a34-9798-06f09d14a09e"
      },
      "execution_count": 7,
      "outputs": [
        {
          "output_type": "stream",
          "name": "stdout",
          "text": [
            "\u001b[32;1m\u001b[1;3m[chain/start]\u001b[0m \u001b[1m[chain:RunnableSequence] Entering Chain run with input:\n",
            "\u001b[0m{\n",
            "  \"input\": 2\n",
            "}\n",
            "\u001b[32;1m\u001b[1;3m[chain/start]\u001b[0m \u001b[1m[chain:RunnableSequence > chain:Radius-Squared] Entering Chain run with input:\n",
            "\u001b[0m{\n",
            "  \"input\": 2\n",
            "}\n",
            "\u001b[36;1m\u001b[1;3m[chain/end]\u001b[0m \u001b[1m[chain:RunnableSequence > chain:Radius-Squared] [1ms] Exiting Chain run with output:\n",
            "\u001b[0m{\n",
            "  \"output\": 4\n",
            "}\n",
            "\u001b[32;1m\u001b[1;3m[chain/start]\u001b[0m \u001b[1m[chain:RunnableSequence > chain:Multiply Pi] Entering Chain run with input:\n",
            "\u001b[0m{\n",
            "  \"input\": 4\n",
            "}\n",
            "\u001b[36;1m\u001b[1;3m[chain/end]\u001b[0m \u001b[1m[chain:RunnableSequence > chain:Multiply Pi] [1ms] Exiting Chain run with output:\n",
            "\u001b[0m{\n",
            "  \"output\": 12.566370614359172\n",
            "}\n",
            "\u001b[36;1m\u001b[1;3m[chain/end]\u001b[0m \u001b[1m[chain:RunnableSequence] [12ms] Exiting Chain run with output:\n",
            "\u001b[0m{\n",
            "  \"output\": 12.566370614359172\n",
            "}\n",
            "Area of the Circle = 12.566370614359172\n"
          ]
        }
      ]
    },
    {
      "cell_type": "markdown",
      "source": [
        "# `RunnableParallel`\n",
        "\n"
      ],
      "metadata": {
        "id": "QEA28hohPr3j"
      }
    },
    {
      "cell_type": "markdown",
      "source": [
        "A [`RunnableParallel`](https://api.python.langchain.com/en/latest/runnables/langchain_core.runnables.base.RunnableParallel.html#langchain_core.runnables.base.RunnableParallel) allows you to run multiple `RunnableSequence` in parallel. This is useful when you want to run more than one sub-chains in parallel and also can be used inside of a `RunnableSequence`."
      ],
      "metadata": {
        "id": "N5zWZjTyYC3D"
      }
    },
    {
      "cell_type": "markdown",
      "source": [
        "## Example: Pros & Cons Generator\n",
        "\n",
        "To better understand the Parallel execution of the chain, let's take an example.\n",
        "\n",
        "Our users to want to know the pros & cons of purchasing a product (e.g: A Car, An Electronic etc) that they like. We will first query the LLM to get a product description and then use `RunnableParallel` to retrieve the Pros and the Cons separately in Parallel and then combine those results into a single cohesive text."
      ],
      "metadata": {
        "id": "AiRwV7UNZKqd"
      }
    },
    {
      "cell_type": "markdown",
      "source": [
        "### Product Description Chain\n",
        "\n",
        "A simple chain that generates a product description from a specified product name. This chain looks like:\n",
        "\n",
        "```markdown\n",
        "[product-name] --> [PromptTemplate] --> [Ollama] --> [OutputParser]\n",
        "```"
      ],
      "metadata": {
        "id": "9fHrhg9cen7t"
      }
    },
    {
      "cell_type": "code",
      "source": [
        "# description prompt\n",
        "description_prompt = {\n",
        "    \"template\": \"You are an assistant tasked with gathering information about a product that an user wants to know about. Get the information for: {product}\",\n",
        "    \"input_variables\": [\"product\"]\n",
        "}\n",
        "\n",
        "# LLM config\n",
        "config = {\n",
        "    \"name\": \"Ollama-Local\",\n",
        "    \"base_url\": os.getenv(\"HOST\"),\n",
        "    \"model\": os.getenv(\"MODEL\"),\n",
        "    \"temperature\": float(os.getenv(\"TEMPERATURE\")),\n",
        "    \"timeout\": int(os.getenv(\"TIMEOUT\")),\n",
        "    \"keep_alive\": 3600\n",
        "}\n",
        "\n",
        "# build a chain to gather information\n",
        "query_chain = (\n",
        "    PromptTemplate(**description_prompt)\n",
        "    | Ollama(**config)\n",
        "    | StrOutputParser()\n",
        ")"
      ],
      "metadata": {
        "id": "2x29zspdCpJy"
      },
      "execution_count": 8,
      "outputs": []
    },
    {
      "cell_type": "markdown",
      "source": [
        "### Pros Chain\n",
        "\n",
        "This chain will generate the Pros of purchasing the above product using the product description generated by the LLM using the Product Description Chain.\n",
        "\n",
        "```markdown\n",
        "[product-description] --> [PromptTemplate] --> [Ollama] --> [OutputParser]\n",
        "```"
      ],
      "metadata": {
        "id": "x8LIPmgSgzfc"
      }
    },
    {
      "cell_type": "code",
      "source": [
        "# Pros Chain\n",
        "#Prompt template\n",
        "pros_prompt = {\n",
        "    \"input_variables\": [\"description\"],\n",
        "    \"template\": \"Write down exactly 5 points on why should the user purchase a product according to the following product description:\\n{description}\"\n",
        "}\n",
        "\n",
        "# build the chain\n",
        "pros_chain = (\n",
        "    PromptTemplate(**pros_prompt)\n",
        "    | Ollama(**config)\n",
        "    | StrOutputParser()\n",
        ")"
      ],
      "metadata": {
        "id": "7ODh1Zq0IBsP"
      },
      "execution_count": 9,
      "outputs": []
    },
    {
      "cell_type": "markdown",
      "source": [
        "### Cons Chain\n",
        "\n",
        "Similar to the Pros chain, the Cons chain is used to generate the cons of purchasing the product using the product description generated by the LLM using the Product Description Chain.\n",
        "\n",
        "```markdown\n",
        "[product-description] --> [PromptTemplate] --> [Ollama] --> [OutputParser]\n",
        "```"
      ],
      "metadata": {
        "id": "KhakdrpVhPfO"
      }
    },
    {
      "cell_type": "code",
      "source": [
        "# Cons Chain\n",
        "# Prompt\n",
        "cons_prompt = {\n",
        "    \"input_variables\": [\"description\"],\n",
        "    \"template\": \"Write down exactly 5 points on why the user should not purchase a product according to the following product description:\\n{description}\"\n",
        "}\n",
        "\n",
        "# cons chain\n",
        "cons_chain = (\n",
        "    PromptTemplate(**cons_prompt)\n",
        "    | Ollama(**config)\n",
        "    | StrOutputParser()\n",
        ")"
      ],
      "metadata": {
        "id": "3W2Y4egGLNem"
      },
      "execution_count": 10,
      "outputs": []
    },
    {
      "cell_type": "markdown",
      "source": [
        "### Combine Chain\n",
        "\n",
        "This chain will combine both the outputs of both the Pros Chain and Cons Chain and generate a single pros & cons summary.\n",
        "\n",
        "```markdown\n",
        "[Pros-Chain]\n",
        "    |\n",
        "    |---->\n",
        "            [PromptTemplate] ---> [Ollama] ---> [OutputParser]\n",
        "    |---->\n",
        "    |\n",
        "[Cons-Chain]\n",
        "```"
      ],
      "metadata": {
        "id": "cwmp3JmbiAWJ"
      }
    },
    {
      "cell_type": "code",
      "source": [
        "# Combine the Chains\n",
        "combine_prompt = {\n",
        "    \"input_variables\": [\"pros\", \"cons\"],\n",
        "    \"template\": \"You are tasked with summarizing the advantages and disadvantages of purchasing a product from the given list: Firstly, the advatages:\\n{pros} and finally the disadvantages:\\n{cons}\"\n",
        "}\n",
        "\n",
        "# combine chain\n",
        "combine_chain = (\n",
        "    PromptTemplate(**combine_prompt)\n",
        "    | Ollama(**config)\n",
        "    | StrOutputParser()\n",
        ")"
      ],
      "metadata": {
        "id": "_nREjGhrV0gW"
      },
      "execution_count": 11,
      "outputs": []
    },
    {
      "cell_type": "markdown",
      "source": [
        "### Chaining all things Together\n",
        "\n",
        "Now we link all the chains together to form a single chain that takes in the name of a product and generates a single response containing the pros and cons of that product."
      ],
      "metadata": {
        "id": "bZvw09sQiUAs"
      }
    },
    {
      "cell_type": "code",
      "source": [
        "final_chain = (\n",
        "    query_chain\n",
        "    | RunnableParallel(pros=pros_chain, cons=cons_chain)\n",
        "    | combine_chain\n",
        ")"
      ],
      "metadata": {
        "id": "tnrzsd91PWsv"
      },
      "execution_count": 12,
      "outputs": []
    },
    {
      "cell_type": "markdown",
      "source": [
        "### Run the Chain\n",
        "\n",
        "Use `set_debug(True)` to print the status of the chain in the notebook."
      ],
      "metadata": {
        "id": "PE-xJX69jJHs"
      }
    },
    {
      "cell_type": "code",
      "source": [
        "set_debug(False)\n",
        "response = final_chain.invoke({\"product\": \"Porsche 911 Turbo GT\"})"
      ],
      "metadata": {
        "id": "UdoBdo6Fqkw9"
      },
      "execution_count": 13,
      "outputs": []
    },
    {
      "cell_type": "code",
      "source": [
        "print(response)"
      ],
      "metadata": {
        "colab": {
          "base_uri": "https://localhost:8080/"
        },
        "id": "HWsBpBeLstx2",
        "outputId": "f3d770c2-96bc-40b3-8bae-43cdb5a7e7ba"
      },
      "execution_count": 14,
      "outputs": [
        {
          "output_type": "stream",
          "name": "stdout",
          "text": [
            " Advantages of purchasing the Porsche 911 Turbo GT include:\n",
            "1. High-Performance: Expected 0-60 mph acceleration of around 2.8 seconds and a top speed exceeding 198 mph.\n",
            "2. Luxury Brand: Renowned for superior craftsmanship, quality, and prestige.\n",
            "3. Advanced Technology: Equipped with a turbocharged flat-six engine, PDK dual-clutch automatic transmission, and potential active aerodynamics.\n",
            "4. Aggressive Aerodynamics: Improved downforce and handling for both the track and road.\n",
            "5. Superior Handling: Upgraded suspension components, larger brakes, and possibly active aerodynamics ensure maximum control and stability.\n",
            "6. Luxurious Interior: Features Alcantara trim, sports seats, a digital instrument cluster, and infotainment system with Apple CarPlay and Android Auto compatibility.\n",
            "7. Potential for Customization: Opportunities to customize the car according to personal preferences or performance needs.\n",
            "\n",
            "Disadvantages include:\n",
            "1. Unconfirmed Details: Many details such as release date, price, and engine specifications are speculative and subject to change.\n",
            "2. High Cost: Base price expected to be around $200,000 USD, which may not fit within everyone's budget.\n",
            "3. Potential Delays: Production or release date delays are possible due to the car not being officially announced yet.\n",
            "4. Lack of Customization Options: Limited options to customize the car compared to purchasing a more established model with various add-ons and options.\n",
            "5. Potential Resale Value Concerns: Unclear how well the 911 Turbo GT will perform in terms of resale value, and buyers may risk losing money if they decide to sell the car in the future.\n"
          ]
        }
      ]
    },
    {
      "cell_type": "markdown",
      "source": [
        "## A Simpler way to Code\n",
        "\n",
        "In the following section, we will code the above example but in a more organized manner. Here we  will be using a python dictionary to contain all the parameters and configurations necessary to run the example."
      ],
      "metadata": {
        "id": "FbDX89P4xiiY"
      }
    },
    {
      "cell_type": "code",
      "source": [
        "chain_config = {\n",
        "    # Prompt Templates\n",
        "    \"prompts\": {\n",
        "        # get the product description\n",
        "        \"description\": {\n",
        "            \"name\": \"Prompt-Generate-Product_Description\",\n",
        "            \"input_variables\": [\"product\"],\n",
        "            \"template\": \"You are an assistant tasked with gathering information about a product that an user wants to know about. Get the information for: {product}\"\n",
        "        },\n",
        "\n",
        "        # get the Pros\n",
        "        \"pros\": {\n",
        "            \"name\": \"Prompt-Generate-Advantages\",\n",
        "            \"input_variables\": [\"description\"],\n",
        "            \"template\": \"List exactly 5 reasons why the user should purchase the product described as:\\n{description}\"\n",
        "        },\n",
        "\n",
        "        # get the Cons\n",
        "        \"cons\": {\n",
        "            \"name\": \"Prompt-Generate-Disadvantages\",\n",
        "            \"input_variables\": [\"description\"],\n",
        "            \"template\": \"List exactly 5 reasons why the user should not purchase the product described as:\\n{description}\"\n",
        "        },\n",
        "\n",
        "        # combine the pros and cons\n",
        "        \"combine\": {\n",
        "            \"name\": \"Prompt-Summarize-Outputs\",\n",
        "            \"input_variables\": [\"pros\", \"cons\"],\n",
        "            \"template\": \"Write down 3 points each on the Advantages and Disadvantages of making a purchase for a product. The advantages of a purcahse are:\\n{pros} and the disadvantages of a purcashe are:\\n{cons}\"\n",
        "        }\n",
        "    },\n",
        "\n",
        "    # Configuration for the LLM\n",
        "    \"llm-config\": {\n",
        "        \"name\": \"Ollama-Local\",\n",
        "        \"base_url\": os.getenv(\"HOST\"),\n",
        "        \"model\": os.getenv(\"MODEL\"),\n",
        "        \"temperature\": float(os.getenv(\"TEMPERATURE\")),\n",
        "        \"timeout\": int(os.getenv(\"TIMEOUT\")),\n",
        "        \"keep_alive\": 3600\n",
        "    }\n",
        "}"
      ],
      "metadata": {
        "id": "cNLg5RlsuOv7"
      },
      "execution_count": 15,
      "outputs": []
    },
    {
      "cell_type": "markdown",
      "source": [
        "### Using the `pipe` (`|`) Operator to Build the Chain"
      ],
      "metadata": {
        "id": "qrb8BHxAyeFL"
      }
    },
    {
      "cell_type": "code",
      "source": [
        "chain_pipe = (\n",
        "    # 1. Description Generator Chain\n",
        "    PromptTemplate(**chain_config[\"prompts\"][\"description\"])\n",
        "    | Ollama(**chain_config[\"llm-config\"])\n",
        "    | StrOutputParser()\n",
        "\n",
        "    # 2. Parallel chains\n",
        "    | RunnableParallel(\n",
        "        # 2A. Generate Advantages\n",
        "        pros = (\n",
        "            PromptTemplate(**chain_config[\"prompts\"][\"pros\"])\n",
        "            | Ollama(**chain_config[\"llm-config\"])\n",
        "            | StrOutputParser()\n",
        "        ),\n",
        "        # 2B. Generate Disadvantages\n",
        "        cons = (\n",
        "            PromptTemplate(**chain_config[\"prompts\"][\"cons\"])\n",
        "            | Ollama(**chain_config[\"llm-config\"])\n",
        "            | StrOutputParser()\n",
        "        )\n",
        "    )\n",
        "\n",
        "    # 3. Combine the Advantages & Disadvantages\n",
        "    | PromptTemplate(**chain_config[\"prompts\"][\"combine\"])\n",
        "    | Ollama(**chain_config[\"llm-config\"])\n",
        "    | StrOutputParser()\n",
        ")"
      ],
      "metadata": {
        "id": "cvlp3ZsLEC9x"
      },
      "execution_count": 16,
      "outputs": []
    },
    {
      "cell_type": "code",
      "source": [
        "set_debug(False)\n",
        "response = chain_pipe.invoke({\"product\": \"Porsche 911 Carrera RS\"})"
      ],
      "metadata": {
        "id": "UTJ6gxnsxW0O"
      },
      "execution_count": 17,
      "outputs": []
    },
    {
      "cell_type": "code",
      "source": [
        "print(response)"
      ],
      "metadata": {
        "id": "ANi-V6RQzZC4",
        "colab": {
          "base_uri": "https://localhost:8080/"
        },
        "outputId": "4a8187c6-295e-4ad9-8ded-d7da7ff52f7d"
      },
      "execution_count": 18,
      "outputs": [
        {
          "output_type": "stream",
          "name": "stdout",
          "text": [
            " Advantages of making a purchase:\n",
            "\n",
            "1. Satisfaction of Ownership: Purchasing a product can provide a sense of accomplishment and satisfaction, especially if the product is something desired for a long time. It allows the owner to have personal possession and control over the product.\n",
            "\n",
            "2. Usefulness and Convenience: A purchased product can bring practical benefits such as solving a problem, fulfilling a need, or enhancing daily life in some way. For example, a new phone may offer improved features for communication and entertainment.\n",
            "\n",
            "3. Quality and Durability: Many products, especially those of high quality, are built to last and provide reliable service over an extended period. This can result in long-term savings compared to repeatedly buying lower-quality alternatives.\n",
            "\n",
            "Disadvantages of making a purchase:\n",
            "\n",
            "1. High Costs: Purchasing a product often comes with a financial commitment that may be significant, especially for higher-end or luxury items. The cost of the product, as well as associated fees such as taxes and shipping, can strain budgets and lead to debt if not managed carefully.\n",
            "\n",
            "2. Obsolescence: Technology and trends change quickly, leading some products to become outdated or obsolete over time. This can result in the purchased item being replaced sooner than expected, leading to wasted resources.\n",
            "\n",
            "3. Maintenance and Repair Costs: Products may require regular maintenance and repairs, which can add to the overall cost of ownership. These costs can be especially high for more complex products like electronics or vehicles.\n",
            "\n",
            "4. Environmental Impact: The production, transportation, and disposal of consumer goods have a significant environmental impact. This includes resource depletion, pollution, and waste generation. By purchasing products, consumers contribute to this environmental footprint.\n",
            "\n",
            "5. Compulsive Buying: In some cases, frequent or excessive purchases can lead to compulsive buying habits that negatively affect personal finances and overall well-being. This can create a cycle of debt and dissatisfaction that is difficult to break.\n"
          ]
        }
      ]
    },
    {
      "cell_type": "markdown",
      "source": [
        "### Using `RunnableSequence` to Build the Chain"
      ],
      "metadata": {
        "id": "oYYOj08_yniw"
      }
    },
    {
      "cell_type": "code",
      "source": [
        "chain_subchain = RunnableSequence(\n",
        "    # 1. Product Description Generator Sub-Chain\n",
        "    RunnableSequence(\n",
        "        PromptTemplate(**chain_config[\"prompts\"][\"description\"]),\n",
        "        Ollama(**chain_config[\"llm-config\"]),\n",
        "        StrOutputParser(),\n",
        "        name=\"Chain-Generate-Product_Description\"\n",
        "    ),\n",
        "\n",
        "    # 2. Generate Advantages & Disadvantages\n",
        "    RunnableParallel(\n",
        "        pros = RunnableSequence(\n",
        "            # 2A. Generate the Advantages\n",
        "            PromptTemplate(**chain_config[\"prompts\"][\"pros\"]),\n",
        "            Ollama(**chain_config[\"llm-config\"]),\n",
        "            StrOutputParser(),\n",
        "            name=\"Chain-Generate-Advantages\"\n",
        "        ),\n",
        "        cons = RunnableSequence(\n",
        "            # 2B. Generate the Disadvantages\n",
        "            PromptTemplate(**chain_config[\"prompts\"][\"cons\"]),\n",
        "            Ollama(**chain_config[\"llm-config\"]),\n",
        "            StrOutputParser(),\n",
        "            name=\"Chain-Generate-Disadvantages\"\n",
        "        )\n",
        "    ),\n",
        "\n",
        "    # 3. Combine the Results\n",
        "    RunnableSequence(\n",
        "        PromptTemplate(**chain_config[\"prompts\"][\"combine\"]),\n",
        "        Ollama(**chain_config[\"llm-config\"]),\n",
        "        StrOutputParser(),\n",
        "        name=\"Chain-Summarize-Output\"\n",
        "    ),\n",
        "    name=\"Parent-Chain\"\n",
        ")"
      ],
      "metadata": {
        "id": "pYXdEYTxEBPk"
      },
      "execution_count": 19,
      "outputs": []
    },
    {
      "cell_type": "code",
      "source": [
        "set_debug(False)\n",
        "chain_subchain.invoke({\"product\": \"Porsche Carrera RS\"})"
      ],
      "metadata": {
        "id": "3Rvpmur0FnxP",
        "colab": {
          "base_uri": "https://localhost:8080/",
          "height": 139
        },
        "outputId": "45945b3c-0588-43fe-ecdf-98fa2d4acff4"
      },
      "execution_count": 20,
      "outputs": [
        {
          "output_type": "execute_result",
          "data": {
            "text/plain": [
              "\" Thank you for your detailed response! Here's a brief summarization of the advantages and disadvantages of purchasing a product like the Porsche Carrera RS:\\n\\nAdvantages:\\n1. Design: Iconic, timeless design that is both aesthetically pleasing and distinctive.\\n2. Engine: High-revving flat-six air-cooled engine delivers impressive power and performance.\\n3. Performance: Exceptional handling and high speed capabilities make for an exhilarating driving experience.\\n4. Versions: Various models available to cater to different preferences and requirements.\\n5. Legacy: A significant influence on automotive history, the Carrera RS continues to impact modern Porsche models and sports cars in general.\\n\\nDisadvantages:\\n1. Cost: High demand and rarity result in a steep price tag that may be prohibitive for some buyers.\\n2. Maintenance: Requires regular maintenance and restoration work, which can be costly and time-consuming.\\n3. Availability: Finding an original, well-maintained Carrera RS can be difficult due to its scarcity and popularity.\\n4. Insurance: Expensive insurance premiums due to the car's value and increased risk of theft or damage.\\n5. Practicality: Lack of practical features and daily usability make it more suitable for racing or track days than commuting or long road trips.\""
            ],
            "application/vnd.google.colaboratory.intrinsic+json": {
              "type": "string"
            }
          },
          "metadata": {},
          "execution_count": 20
        }
      ]
    }
  ]
}